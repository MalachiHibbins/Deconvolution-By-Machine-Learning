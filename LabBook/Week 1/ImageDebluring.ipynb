{
 "cells": [
  {
   "cell_type": "markdown",
   "id": "a02f1384",
   "metadata": {},
   "source": [
    "## Key concepts\n",
    "- Convolutional Neural Networks (CNNs): A neural network designed for image and video processing\n",
    "- Directed Acyclic Graph (DAG): Used to represent the mapping between a blurred image and a sharp image. A directed graph with no cycles\n",
    "- Reconstruction error: the difference between the deblurred image and the true image.\n"
   ]
  },
  {
   "cell_type": "code",
   "execution_count": null,
   "id": "0af41d2c",
   "metadata": {},
   "outputs": [],
   "source": [
    "import pytorch\n",
    "import numpy as np\n",
    "import matplotlib.pyplot as plt\n",
    "from torch.utils.data import Dataset\n",
    "from torchvision import datasets\n",
    "\n",
    "# Load data\n",
    "training_data = datasets\n"
   ]
  }
 ],
 "metadata": {
  "language_info": {
   "name": "python"
  }
 },
 "nbformat": 4,
 "nbformat_minor": 5
}
